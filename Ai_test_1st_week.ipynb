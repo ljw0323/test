{
  "nbformat": 4,
  "nbformat_minor": 0,
  "metadata": {
    "colab": {
      "name": "Untitled0.ipynb",
      "provenance": [],
      "collapsed_sections": [],
      "authorship_tag": "ABX9TyOCvnCkEhmFuM9kxAN5NchW",
      "include_colab_link": true
    },
    "kernelspec": {
      "name": "python3",
      "display_name": "Python 3"
    }
  },
  "cells": [
    {
      "cell_type": "markdown",
      "metadata": {
        "id": "view-in-github",
        "colab_type": "text"
      },
      "source": [
        "<a href=\"https://colab.research.google.com/github/ljw0323/test/blob/master/Untitled0.ipynb\" target=\"_parent\"><img src=\"https://colab.research.google.com/assets/colab-badge.svg\" alt=\"Open In Colab\"/></a>"
      ]
    },
    {
      "cell_type": "markdown",
      "metadata": {
        "id": "IhWng0NsQipG",
        "colab_type": "text"
      },
      "source": [
        "인공지능 사관학교 일주차 과제\n",
        "=============================\n"
      ]
    },
    {
      "cell_type": "markdown",
      "metadata": {
        "id": "4Sp1oHsJRPYf",
        "colab_type": "text"
      },
      "source": [
        "* * *"
      ]
    },
    {
      "cell_type": "markdown",
      "metadata": {
        "id": "xPQZG980RPtA",
        "colab_type": "text"
      },
      "source": [
        "##언어 분야 인공지능 사례"
      ]
    },
    {
      "cell_type": "markdown",
      "metadata": {
        "id": "zY5RPU-QSO8I",
        "colab_type": "text"
      },
      "source": [
        "#### 파파고 : <https://papago.naver.com/>"
      ]
    },
    {
      "cell_type": "markdown",
      "metadata": {
        "id": "EPhjHzScS0GE",
        "colab_type": "text"
      },
      "source": [
        "파파고란 네이버 랩스에서 개발한 인공신경망 기반 번역서비스 이다.    \n",
        "사용자가 번역한 데이터를 이용하여 학습하거나,   \n",
        "파파고 짐 (<https://papago.naver.com/gym/home>)을 통해 사용자들이 문장의 해석에   \n",
        "정답인지 아닌지를 판별해주면서 학습시킨다.\n",
        "\n",
        "또한 여러가지 특수 기능이 있는데,  동음이의어 감지기능을 통해 밑줄이 그어지게 되고,   \n",
        "의미를 표현한 도형을 선택함으로써 더 정확한 결과를 얻을 수 있다.   \n",
        "환율 자동 변환을 사용하여 통역결과와 현재환율을 계산 할 수도 있고,   \n",
        "높임말 번역이 가능하여 한국어의 반말과 높임말을 구별해서 반영할 수 있다. \n",
        "\n"
      ]
    },
    {
      "cell_type": "markdown",
      "metadata": {
        "id": "EOKfRiiqVB6K",
        "colab_type": "text"
      },
      "source": [
        "물론 개발자에게는 개발에서의 활용성도 중요하다.   \n",
        "파파고는 api를 지원한다. (물론 유료로)   \n",
        "글자단위로 요금을 책정하여 데이터가 많을수록 요금이 올라간다\n",
        "* * *\n"
      ]
    },
    {
      "cell_type": "markdown",
      "metadata": {
        "id": "khQneDYIVf2D",
        "colab_type": "text"
      },
      "source": [
        "## 음성 분야 인공지능 사례"
      ]
    },
    {
      "cell_type": "markdown",
      "metadata": {
        "id": "zJKUkD9gVj0Y",
        "colab_type": "text"
      },
      "source": [
        "####SKT NUGU : <https://www.nugu.co.kr/>"
      ]
    },
    {
      "cell_type": "markdown",
      "metadata": {
        "id": "92g9t_E-nG_A",
        "colab_type": "text"
      },
      "source": [
        "NUGU란 SKT에서 출시한 인공지능 음성인식 스피커이다.\n",
        "음악 재생, 라디오, 디지털기기 제어, 생활 정보 알림 등에 기능이 있다.   \n",
        "NUGU도 개발자자를 위해 <https://developers.nugu.co.kr/#/>사이트를 제공하고   \n",
        "도큐먼트도 지원하고 있어 개발입문자도 진입 장벽 없이 쉽게 개발 할 수 있다.\n",
        "\n",
        "간단한 음성인식기능 뿐 아니라 자신이 원하는 기능에 맞게   \n",
        "아두이노와 결합하여 사용할 수 있어 코딩교육에도 적합한 필요가 있어보인다.\n",
        "\n",
        "생활속 여러가지 서비스와 결합되어 원래 서비스 기능으로만 사용하거나   \n",
        "개발자라면 어려운 음성인공 서비스 구축을 쉽게 할 수 있도록 하는 것이 가장 큰 장점인 것 같다.\n",
        "* * *"
      ]
    },
    {
      "cell_type": "markdown",
      "metadata": {
        "id": "MLxQEFUJo705",
        "colab_type": "text"
      },
      "source": [
        "##이미지 분야 인공지능 사례"
      ]
    },
    {
      "cell_type": "markdown",
      "metadata": {
        "id": "XjwlrVjjpA5G",
        "colab_type": "text"
      },
      "source": [
        "####T3Q 상품 유사도 검색 : <http://t3qlab.t3q.co.kr:1811/req-data>"
      ]
    },
    {
      "cell_type": "markdown",
      "metadata": {
        "id": "nwe4aNgmpk2m",
        "colab_type": "text"
      },
      "source": [
        "T3Q에서 만든 나의 상품의 이미지가 겹치는지 확인해주는 프로그램이다.   \n",
        "한국특허정보원과 특허청에 등록된 이미지를 사용자의 이미지와 비교하여   \n",
        "인공지능 기술을 이용하여 높은 유사도를 가진 이미지를 출력해 준다.\n",
        "\n",
        "특허청에 등록된 특허들은 엄청나게 많고, 개인이라면 유사한 상품을 찾는 것도 어렵다.    \n",
        "또한 디자인이 겹친다면 다른분야라도 곤란해 질 수 있다.   \n",
        "\n",
        "이 프로그램을 이용한다면 보다 빠르고 쉽게 유사한 상품을 판별해 내는 것이 쉽게 느껴질 것이다.\n",
        "* * *"
      ]
    },
    {
      "cell_type": "markdown",
      "metadata": {
        "id": "T9NHgDDxqiSS",
        "colab_type": "text"
      },
      "source": [
        "##자율주행 분야 인공지능 사례"
      ]
    },
    {
      "cell_type": "markdown",
      "metadata": {
        "id": "A6ySB7sWqtSw",
        "colab_type": "text"
      },
      "source": [
        "#### 구글 무인 자동차 (구글카)"
      ]
    },
    {
      "cell_type": "markdown",
      "metadata": {
        "id": "7dGQboKzqwfM",
        "colab_type": "text"
      },
      "source": [
        "세계 1위라고 말할 수 있는 IT기업의 자율주행 자동차이다.   \n",
        "구글의 무인 자동차는 비디오 카메라, 방향표시기, 인공지능 소프트웨어,     \n",
        "위성위치정보시스템(GPS), 여러가지 센서 등을 기반으로 작동된다.   \n",
        "GPS를 통해 현재 위치와 목적지를 끊임없이 비교하면서 원하는 방향으로 핸들을 돌린다.    \n",
        "또한 레이다ㆍ카메라ㆍ레이저 스캐너가 도로의 다양한 정보를 확보한다.    \n",
        "이 데이터들은 구글 컴퓨터가 종합ㆍ분석해 방향조작, 가속, 감속, 정지 등 운전에 필요한 최종의사결정을 내린다.\n",
        "\n",
        "실제로 여러 테스트를 거쳐 실 주행이 가능한 정도지만 법률상, 안전상의 이유로 보류되고 있다.   \n",
        "모든 자동차가 자율주행자동차가 되면 교통체증은 옛말이 아닐까 싶어진다."
      ]
    }
  ]
}
